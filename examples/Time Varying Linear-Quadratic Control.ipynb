{
 "cells": [
  {
   "cell_type": "code",
   "execution_count": 1,
   "metadata": {
    "collapsed": true
   },
   "outputs": [
    {
     "output_type": "error",
     "ename": "ImportError",
     "evalue": "cannot import name mpc",
     "traceback": [
      "\u001b[0;31m\u001b[0m",
      "\u001b[0;31mImportError\u001b[0mTraceback (most recent call last)",
      "\u001b[0;32m<ipython-input-1-2f4c76003313>\u001b[0m in \u001b[0;36m<module>\u001b[0;34m()\u001b[0m\n\u001b[1;32m      1\u001b[0m \u001b[0;32mimport\u001b[0m \u001b[0mtorch\u001b[0m\u001b[0;34m\u001b[0m\u001b[0m\n\u001b[1;32m      2\u001b[0m \u001b[0;32mfrom\u001b[0m \u001b[0mtorch\u001b[0m\u001b[0;34m.\u001b[0m\u001b[0mautograd\u001b[0m \u001b[0;32mimport\u001b[0m \u001b[0mVariable\u001b[0m\u001b[0;34m\u001b[0m\u001b[0m\n\u001b[0;32m----> 3\u001b[0;31m \u001b[0;32mfrom\u001b[0m \u001b[0mmpc\u001b[0m \u001b[0;32mimport\u001b[0m \u001b[0mmpc\u001b[0m\u001b[0;34m\u001b[0m\u001b[0m\n\u001b[0m\u001b[1;32m      4\u001b[0m \u001b[0;32mfrom\u001b[0m \u001b[0mmpc\u001b[0m\u001b[0;34m.\u001b[0m\u001b[0mmpc\u001b[0m \u001b[0;32mimport\u001b[0m \u001b[0mQuadCost\u001b[0m\u001b[0;34m,\u001b[0m \u001b[0mLinDx\u001b[0m\u001b[0;34m\u001b[0m\u001b[0m\n",
      "\u001b[0;32mbuild/bdist.linux-x86_64/egg/mpc/mpc.py\u001b[0m in \u001b[0;36m<module>\u001b[0;34m()\u001b[0m\n",
      "\u001b[0;32mbuild/bdist.linux-x86_64/egg/mpc/lqr_step.py\u001b[0m in \u001b[0;36m<module>\u001b[0;34m()\u001b[0m\n",
      "\u001b[0;31mImportError\u001b[0m: cannot import name mpc"
     ]
    }
   ],
   "source": [
    "import torch\n",
    "from torch.autograd import Variable\n",
    "\n",
    "from mpc import mpc\n",
    "from mpc.mpc import QuadCost, LinDx, GradMethods\n",
    "from mpc.env_dx import pendulum"
   ]
  },
  {
   "cell_type": "code",
   "execution_count": 2,
   "metadata": {},
   "outputs": [
    {
     "output_type": "error",
     "ename": "NameError",
     "evalue": "name 'mpc' is not defined",
     "traceback": [
      "\u001b[0;31m\u001b[0m",
      "\u001b[0;31mNameError\u001b[0mTraceback (most recent call last)",
      "\u001b[0;32m<ipython-input-2-fb57a5042dfe>\u001b[0m in \u001b[0;36m<module>\u001b[0;34m()\u001b[0m\n\u001b[1;32m     21\u001b[0m \u001b[0mu_upper\u001b[0m \u001b[0;34m=\u001b[0m \u001b[0mtorch\u001b[0m\u001b[0;34m.\u001b[0m\u001b[0mrand\u001b[0m\u001b[0;34m(\u001b[0m\u001b[0mT\u001b[0m\u001b[0;34m,\u001b[0m \u001b[0mn_batch\u001b[0m\u001b[0;34m,\u001b[0m \u001b[0mn_ctrl\u001b[0m\u001b[0;34m)\u001b[0m\u001b[0;34m\u001b[0m\u001b[0m\n\u001b[1;32m     22\u001b[0m \u001b[0;34m\u001b[0m\u001b[0m\n\u001b[0;32m---> 23\u001b[0;31m x_lqr, u_lqr, objs_lqr = mpc.MPC(\n\u001b[0m\u001b[1;32m     24\u001b[0m     \u001b[0mn_state\u001b[0m\u001b[0;34m=\u001b[0m\u001b[0mn_state\u001b[0m\u001b[0;34m,\u001b[0m\u001b[0;34m\u001b[0m\u001b[0m\n\u001b[1;32m     25\u001b[0m     \u001b[0mn_ctrl\u001b[0m\u001b[0;34m=\u001b[0m\u001b[0mn_ctrl\u001b[0m\u001b[0;34m,\u001b[0m\u001b[0;34m\u001b[0m\u001b[0m\n",
      "\u001b[0;31mNameError\u001b[0m: name 'mpc' is not defined"
     ]
    }
   ],
   "source": [
    "torch.manual_seed(0)\n",
    "\n",
    "n_batch, n_state, n_ctrl, T = 2, 3, 4, 5\n",
    "n_sc = n_state + n_ctrl\n",
    "\n",
    "# Randomly initialize a PSD quadratic cost and linear dynamics.\n",
    "C = torch.randn(T*n_batch, n_sc, n_sc)\n",
    "C = torch.bmm(C, C.transpose(1, 2)).view(T, n_batch, n_sc, n_sc)\n",
    "c = torch.randn(T, n_batch, n_sc)\n",
    "\n",
    "alpha = 0.2\n",
    "R = (torch.eye(n_state)+alpha*torch.randn(n_state, n_state)).repeat(T, n_batch, 1, 1)\n",
    "S = torch.randn(T, n_batch, n_state, n_ctrl)\n",
    "F = torch.cat((R, S), dim=3)\n",
    "\n",
    "# The initial state.\n",
    "x_init = torch.randn(n_batch, n_state)\n",
    "\n",
    "# The upper and lower control bounds.\n",
    "u_lower = -torch.rand(T, n_batch, n_ctrl)\n",
    "u_upper = torch.rand(T, n_batch, n_ctrl)\n",
    "\n",
    "x_lqr, u_lqr, objs_lqr = mpc.MPC(\n",
    "    n_state=n_state,\n",
    "    n_ctrl=n_ctrl,\n",
    "    T=T,\n",
    "    u_lower=u_lower, \n",
    "    u_upper=u_upper,\n",
    "    lqr_iter=20,\n",
    "    verbose=1,\n",
    "    backprop=False,\n",
    "    exit_unconverged=False,\n",
    ")(x_init, QuadCost(C, c), LinDx(F))"
   ]
  },
  {
   "cell_type": "code",
   "execution_count": null,
   "metadata": {
    "collapsed": true
   },
   "outputs": [],
   "source": []
  }
 ],
 "metadata": {
  "kernelspec": {
   "display_name": "Python 3",
   "language": "python",
   "name": "python3"
  },
  "language_info": {
   "codemirror_mode": {
    "name": "ipython",
    "version": 3
   },
   "file_extension": ".py",
   "mimetype": "text/x-python",
   "name": "python",
   "nbconvert_exporter": "python",
   "pygments_lexer": "ipython3",
   "version": "3.6.9-final"
  }
 },
 "nbformat": 4,
 "nbformat_minor": 2
}